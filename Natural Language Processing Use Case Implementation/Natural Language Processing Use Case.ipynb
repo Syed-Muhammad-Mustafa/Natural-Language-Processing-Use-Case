{
 "cells": [
  {
   "cell_type": "markdown",
   "id": "1527d56c",
   "metadata": {},
   "source": [
    "# Stage#01: Data Gathering\n",
    "# Stage#02: Data Exploration"
   ]
  },
  {
   "cell_type": "code",
   "execution_count": 2,
   "id": "fb49e79e",
   "metadata": {},
   "outputs": [],
   "source": [
    "import pandas as pd\n",
    "import numpy as np\n",
    "import tensorflow as tf\n",
    "import tensorflow_datasets as tfds\n",
    "import matplotlib.pyplot as plt"
   ]
  },
  {
   "cell_type": "code",
   "execution_count": 3,
   "id": "df0453f7",
   "metadata": {},
   "outputs": [
    {
     "data": {
      "text/html": [
       "<div>\n",
       "<style scoped>\n",
       "    .dataframe tbody tr th:only-of-type {\n",
       "        vertical-align: middle;\n",
       "    }\n",
       "\n",
       "    .dataframe tbody tr th {\n",
       "        vertical-align: top;\n",
       "    }\n",
       "\n",
       "    .dataframe thead th {\n",
       "        text-align: right;\n",
       "    }\n",
       "</style>\n",
       "<table border=\"1\" class=\"dataframe\">\n",
       "  <thead>\n",
       "    <tr style=\"text-align: right;\">\n",
       "      <th></th>\n",
       "      <th>marketplace (string)</th>\n",
       "      <th>customer_id (string)</th>\n",
       "      <th>review_id (string)</th>\n",
       "      <th>product_id (string)</th>\n",
       "      <th>product_parent (string)</th>\n",
       "      <th>product_title (string)</th>\n",
       "      <th>product_category (string)</th>\n",
       "      <th>star_rating (int32)</th>\n",
       "      <th>helpful_votes (int32)</th>\n",
       "      <th>total_votes (int32)</th>\n",
       "      <th>vine (class label)</th>\n",
       "      <th>verified_purchase (class label)</th>\n",
       "      <th>review_headline (string)</th>\n",
       "      <th>review_body (string)</th>\n",
       "      <th>review_date (string)</th>\n",
       "    </tr>\n",
       "  </thead>\n",
       "  <tbody>\n",
       "    <tr>\n",
       "      <th>0</th>\n",
       "      <td>\"US\"</td>\n",
       "      <td>\"20422322\"</td>\n",
       "      <td>\"R8MEA6IGAHO0B\"</td>\n",
       "      <td>\"B00MC4CED8\"</td>\n",
       "      <td>\"217304173\"</td>\n",
       "      <td>\"BlackVue DR600GW-PMP\"</td>\n",
       "      <td>\"Mobile_Electronics\"</td>\n",
       "      <td>5</td>\n",
       "      <td>0</td>\n",
       "      <td>0</td>\n",
       "      <td>0�(N)</td>\n",
       "      <td>1�(Y)</td>\n",
       "      <td>\"Very Happy!\"</td>\n",
       "      <td>\"As advertised. Everything works perfectly, I'...</td>\n",
       "      <td>\"2015-08-31\"</td>\n",
       "    </tr>\n",
       "    <tr>\n",
       "      <th>1</th>\n",
       "      <td>\"US\"</td>\n",
       "      <td>\"40835037\"</td>\n",
       "      <td>\"R31LOQ8JGLPRLK\"</td>\n",
       "      <td>\"B00OQMFG1Q\"</td>\n",
       "      <td>\"137313254\"</td>\n",
       "      <td>\"GENSSI GSM / GPS Two Way Smart Phone Car Alar...</td>\n",
       "      <td>\"Mobile_Electronics\"</td>\n",
       "      <td>5</td>\n",
       "      <td>0</td>\n",
       "      <td>1</td>\n",
       "      <td>0�(N)</td>\n",
       "      <td>1�(Y)</td>\n",
       "      <td>\"five star\"</td>\n",
       "      <td>\"it's great\"</td>\n",
       "      <td>\"2015-08-31\"</td>\n",
       "    </tr>\n",
       "    <tr>\n",
       "      <th>2</th>\n",
       "      <td>\"US\"</td>\n",
       "      <td>\"51469641\"</td>\n",
       "      <td>\"R2Y0MM9YE6OP3P\"</td>\n",
       "      <td>\"B00QERR5CY\"</td>\n",
       "      <td>\"82850235\"</td>\n",
       "      <td>\"iXCC Multi pack Lightning cable\"</td>\n",
       "      <td>\"Mobile_Electronics\"</td>\n",
       "      <td>5</td>\n",
       "      <td>0</td>\n",
       "      <td>0</td>\n",
       "      <td>0�(N)</td>\n",
       "      <td>1�(Y)</td>\n",
       "      <td>\"great cables\"</td>\n",
       "      <td>\"These work great and fit my life proof case f...</td>\n",
       "      <td>\"2015-08-31\"</td>\n",
       "    </tr>\n",
       "    <tr>\n",
       "      <th>3</th>\n",
       "      <td>\"US\"</td>\n",
       "      <td>\"4332923\"</td>\n",
       "      <td>\"RRB9C05HDOD4O\"</td>\n",
       "      <td>\"B00QUFTPV4\"</td>\n",
       "      <td>\"221169481\"</td>\n",
       "      <td>\"abcGoodefg� FBI Covert Acoustic Tube Earpiece...</td>\n",
       "      <td>\"Mobile_Electronics\"</td>\n",
       "      <td>4</td>\n",
       "      <td>0</td>\n",
       "      <td>0</td>\n",
       "      <td>0�(N)</td>\n",
       "      <td>1�(Y)</td>\n",
       "      <td>\"Work very well but couldn't get used to not h...</td>\n",
       "      <td>\"Work very well but couldn't get used to not h...</td>\n",
       "      <td>\"2015-08-31\"</td>\n",
       "    </tr>\n",
       "    <tr>\n",
       "      <th>4</th>\n",
       "      <td>\"US\"</td>\n",
       "      <td>\"44855305\"</td>\n",
       "      <td>\"R26I2RI1GFV8QG\"</td>\n",
       "      <td>\"B0067XVNTG\"</td>\n",
       "      <td>\"563475445\"</td>\n",
       "      <td>\"Generic Car Dashboard Video Camera Vehicle Vi...</td>\n",
       "      <td>\"Mobile_Electronics\"</td>\n",
       "      <td>2</td>\n",
       "      <td>0</td>\n",
       "      <td>0</td>\n",
       "      <td>0�(N)</td>\n",
       "      <td>1�(Y)</td>\n",
       "      <td>\"Cameras has battery issues\"</td>\n",
       "      <td>\"Be careful with these products, I have bought...</td>\n",
       "      <td>\"2015-08-31\"</td>\n",
       "    </tr>\n",
       "  </tbody>\n",
       "</table>\n",
       "</div>"
      ],
      "text/plain": [
       "  marketplace (string) customer_id (string) review_id (string)  \\\n",
       "0                 \"US\"           \"20422322\"    \"R8MEA6IGAHO0B\"   \n",
       "1                 \"US\"           \"40835037\"   \"R31LOQ8JGLPRLK\"   \n",
       "2                 \"US\"           \"51469641\"   \"R2Y0MM9YE6OP3P\"   \n",
       "3                 \"US\"            \"4332923\"    \"RRB9C05HDOD4O\"   \n",
       "4                 \"US\"           \"44855305\"   \"R26I2RI1GFV8QG\"   \n",
       "\n",
       "  product_id (string) product_parent (string)  \\\n",
       "0        \"B00MC4CED8\"             \"217304173\"   \n",
       "1        \"B00OQMFG1Q\"             \"137313254\"   \n",
       "2        \"B00QERR5CY\"              \"82850235\"   \n",
       "3        \"B00QUFTPV4\"             \"221169481\"   \n",
       "4        \"B0067XVNTG\"             \"563475445\"   \n",
       "\n",
       "                              product_title (string)  \\\n",
       "0                             \"BlackVue DR600GW-PMP\"   \n",
       "1  \"GENSSI GSM / GPS Two Way Smart Phone Car Alar...   \n",
       "2                  \"iXCC Multi pack Lightning cable\"   \n",
       "3  \"abcGoodefg� FBI Covert Acoustic Tube Earpiece...   \n",
       "4  \"Generic Car Dashboard Video Camera Vehicle Vi...   \n",
       "\n",
       "  product_category (string)  star_rating (int32)  helpful_votes (int32)  \\\n",
       "0      \"Mobile_Electronics\"                    5                      0   \n",
       "1      \"Mobile_Electronics\"                    5                      0   \n",
       "2      \"Mobile_Electronics\"                    5                      0   \n",
       "3      \"Mobile_Electronics\"                    4                      0   \n",
       "4      \"Mobile_Electronics\"                    2                      0   \n",
       "\n",
       "   total_votes (int32) vine (class label) verified_purchase (class label)  \\\n",
       "0                    0              0�(N)                           1�(Y)   \n",
       "1                    1              0�(N)                           1�(Y)   \n",
       "2                    0              0�(N)                           1�(Y)   \n",
       "3                    0              0�(N)                           1�(Y)   \n",
       "4                    0              0�(N)                           1�(Y)   \n",
       "\n",
       "                            review_headline (string)  \\\n",
       "0                                      \"Very Happy!\"   \n",
       "1                                        \"five star\"   \n",
       "2                                     \"great cables\"   \n",
       "3  \"Work very well but couldn't get used to not h...   \n",
       "4                       \"Cameras has battery issues\"   \n",
       "\n",
       "                                review_body (string) review_date (string)  \n",
       "0  \"As advertised. Everything works perfectly, I'...         \"2015-08-31\"  \n",
       "1                                       \"it's great\"         \"2015-08-31\"  \n",
       "2  \"These work great and fit my life proof case f...         \"2015-08-31\"  \n",
       "3  \"Work very well but couldn't get used to not h...         \"2015-08-31\"  \n",
       "4  \"Be careful with these products, I have bought...         \"2015-08-31\"  "
      ]
     },
     "execution_count": 3,
     "metadata": {},
     "output_type": "execute_result"
    }
   ],
   "source": [
    "dataset=pd.read_csv('E:\\Data Science\\SDAIA\\ReviewsMobile.csv')\n",
    "dataset.head()"
   ]
  },
  {
   "cell_type": "code",
   "execution_count": 4,
   "id": "4b3816d8",
   "metadata": {},
   "outputs": [
    {
     "data": {
      "text/html": [
       "<div>\n",
       "<style scoped>\n",
       "    .dataframe tbody tr th:only-of-type {\n",
       "        vertical-align: middle;\n",
       "    }\n",
       "\n",
       "    .dataframe tbody tr th {\n",
       "        vertical-align: top;\n",
       "    }\n",
       "\n",
       "    .dataframe thead th {\n",
       "        text-align: right;\n",
       "    }\n",
       "</style>\n",
       "<table border=\"1\" class=\"dataframe\">\n",
       "  <thead>\n",
       "    <tr style=\"text-align: right;\">\n",
       "      <th></th>\n",
       "      <th>review_body (string)</th>\n",
       "      <th>star_rating (int32)</th>\n",
       "    </tr>\n",
       "  </thead>\n",
       "  <tbody>\n",
       "    <tr>\n",
       "      <th>0</th>\n",
       "      <td>\"As advertised. Everything works perfectly, I'...</td>\n",
       "      <td>5</td>\n",
       "    </tr>\n",
       "    <tr>\n",
       "      <th>1</th>\n",
       "      <td>\"it's great\"</td>\n",
       "      <td>5</td>\n",
       "    </tr>\n",
       "    <tr>\n",
       "      <th>2</th>\n",
       "      <td>\"These work great and fit my life proof case f...</td>\n",
       "      <td>5</td>\n",
       "    </tr>\n",
       "    <tr>\n",
       "      <th>3</th>\n",
       "      <td>\"Work very well but couldn't get used to not h...</td>\n",
       "      <td>4</td>\n",
       "    </tr>\n",
       "    <tr>\n",
       "      <th>4</th>\n",
       "      <td>\"Be careful with these products, I have bought...</td>\n",
       "      <td>2</td>\n",
       "    </tr>\n",
       "  </tbody>\n",
       "</table>\n",
       "</div>"
      ],
      "text/plain": [
       "                                review_body (string)  star_rating (int32)\n",
       "0  \"As advertised. Everything works perfectly, I'...                    5\n",
       "1                                       \"it's great\"                    5\n",
       "2  \"These work great and fit my life proof case f...                    5\n",
       "3  \"Work very well but couldn't get used to not h...                    4\n",
       "4  \"Be careful with these products, I have bought...                    2"
      ]
     },
     "execution_count": 4,
     "metadata": {},
     "output_type": "execute_result"
    }
   ],
   "source": [
    "# Pick the relevant columns of interest\n",
    "columns_of_interest = ['review_body (string)', 'star_rating (int32)']\n",
    "data = dataset[columns_of_interest]\n",
    "data.head()"
   ]
  },
  {
   "cell_type": "code",
   "execution_count": 5,
   "id": "24cf1f34",
   "metadata": {},
   "outputs": [
    {
     "name": "stdout",
     "output_type": "stream",
     "text": [
      "Total number of datapoints: 1000\n"
     ]
    }
   ],
   "source": [
    "# Get the number of samples\n",
    "print('Total number of datapoints:', data.shape[0])"
   ]
  },
  {
   "cell_type": "code",
   "execution_count": 6,
   "id": "ffa0116f",
   "metadata": {},
   "outputs": [
    {
     "name": "stdout",
     "output_type": "stream",
     "text": [
      "Number of classes: 5\n"
     ]
    }
   ],
   "source": [
    "#Get the number of class (we will convert this the rating to sentiment in the next stage)\n",
    "print(\"Number of classes:\", data['star_rating (int32)'].nunique())"
   ]
  },
  {
   "cell_type": "code",
   "execution_count": 7,
   "id": "f1ae4461",
   "metadata": {},
   "outputs": [
    {
     "name": "stdout",
     "output_type": "stream",
     "text": [
      "Number of samples per class: \n",
      " 5    572\n",
      "1    164\n",
      "4    128\n",
      "3     78\n",
      "2     58\n",
      "Name: star_rating (int32), dtype: int64\n"
     ]
    }
   ],
   "source": [
    "#Get the number of samples per class\n",
    "print(\"Number of samples per class: \\n\", data['star_rating (int32)'].value_counts())"
   ]
  },
  {
   "cell_type": "markdown",
   "id": "93718864",
   "metadata": {},
   "source": [
    "# We can see that the data is imbalanced\n",
    "#Using some sampling techniques to balance data so the model performs well OR We can use Augmentation Technique"
   ]
  },
  {
   "cell_type": "code",
   "execution_count": 8,
   "id": "5ee481a4",
   "metadata": {},
   "outputs": [
    {
     "name": "stdout",
     "output_type": "stream",
     "text": [
      "Number of words per sample:  34.703\n"
     ]
    }
   ],
   "source": [
    "#Get the number of words per sample\n",
    "print(\"Number of words per sample: \" ,np.mean(data['review_body (string)'].apply(lambda x: len(x.split()))))"
   ]
  },
  {
   "cell_type": "code",
   "execution_count": 9,
   "id": "88ba90fe",
   "metadata": {},
   "outputs": [
    {
     "name": "stdout",
     "output_type": "stream",
     "text": [
      "Distribution of number of words per sample:\n"
     ]
    },
    {
     "data": {
      "text/plain": [
       "11      19\n",
       "13      16\n",
       "14      15\n",
       "6       13\n",
       "20      13\n",
       "        ..\n",
       "282      1\n",
       "286      1\n",
       "287      1\n",
       "292      1\n",
       "9652     1\n",
       "Length: 377, dtype: int64"
      ]
     },
     "execution_count": 9,
     "metadata": {},
     "output_type": "execute_result"
    }
   ],
   "source": [
    "#Get the distribution of number of words per sample\n",
    "print(\"Distribution of number of words per sample:\")\n",
    "pd.DataFrame([len(s) for s in data['review_body (string)']]).value_counts()"
   ]
  },
  {
   "cell_type": "code",
   "execution_count": 10,
   "id": "2c9fb9cb",
   "metadata": {},
   "outputs": [
    {
     "data": {
      "image/png": "[encoded data removed]",
      "text/plain": [
       "<Figure size 432x288 with 1 Axes>"
      ]
     },
     "metadata": {
      "needs_background": "light"
     },
     "output_type": "display_data"
    }
   ],
   "source": [
    "# plot the distribution of sample lenghts\n",
    "def plot_sample_lenght_distribution(sample_texts):\n",
    "    plt.hist([len(s) for s in sample_texts], 50)\n",
    "    plt.xlabel('Lenght of a sample')\n",
    "    plt.ylabel('Number of samples')\n",
    "    plt.title('Sample lenght distribution')\n",
    "    plt.show()\n",
    "    \n",
    "plot_sample_lenght_distribution(data['review_body (string)'].tolist())"
   ]
  },
  {
   "cell_type": "markdown",
   "id": "f0e24c99",
   "metadata": {},
   "source": [
    "# Stage# 2.5: Choose a model"
   ]
  },
  {
   "cell_type": "code",
   "execution_count": 11,
   "id": "74ccdd44",
   "metadata": {},
   "outputs": [],
   "source": [
    "#Which model to choose? \n",
    "#Model Selection:\n",
    "#based on data that we have. If we have less data then it's easy to start with the multi layer perceptron or\n",
    "#even an ML model would be enough to start with\n",
    "#Incase of we have enough data we don't have any pre-trained model in that domain then we need to build an own model from \n",
    "#scratch & that would be a better option \n",
    "#Suppose if we have pretrained model the domain that we are dealing with & we have enough data not too much then \n",
    "#we can use pretrained model & use transfer learning & then fine-tune the pretrained model & then we can use for that problem"
   ]
  },
  {
   "cell_type": "markdown",
   "id": "5c78a6ef",
   "metadata": {},
   "source": [
    "# Stage#3: Prepare the data"
   ]
  },
  {
   "cell_type": "code",
   "execution_count": 13,
   "id": "26cdd5f5",
   "metadata": {},
   "outputs": [],
   "source": [
    "#This is needed because the model only understands the numerical data. \n",
    "#Data preparation involves two steps:\n",
    "#1- Feature Engineering\n",
    "#2- Feature Selection  "
   ]
  },
  {
   "cell_type": "code",
   "execution_count": 14,
   "id": "36d7fc6b",
   "metadata": {},
   "outputs": [
    {
     "data": {
      "text/html": [
       "<div>\n",
       "<style scoped>\n",
       "    .dataframe tbody tr th:only-of-type {\n",
       "        vertical-align: middle;\n",
       "    }\n",
       "\n",
       "    .dataframe tbody tr th {\n",
       "        vertical-align: top;\n",
       "    }\n",
       "\n",
       "    .dataframe thead th {\n",
       "        text-align: right;\n",
       "    }\n",
       "</style>\n",
       "<table border=\"1\" class=\"dataframe\">\n",
       "  <thead>\n",
       "    <tr style=\"text-align: right;\">\n",
       "      <th></th>\n",
       "      <th>review_body (string)</th>\n",
       "      <th>star_rating (int32)</th>\n",
       "    </tr>\n",
       "  </thead>\n",
       "  <tbody>\n",
       "    <tr>\n",
       "      <th>521</th>\n",
       "      <td>\"wifi does not stay on i have it mounted out t...</td>\n",
       "      <td>3</td>\n",
       "    </tr>\n",
       "    <tr>\n",
       "      <th>737</th>\n",
       "      <td>\"right amount of blue tint, for day and night ...</td>\n",
       "      <td>4</td>\n",
       "    </tr>\n",
       "    <tr>\n",
       "      <th>740</th>\n",
       "      <td>\"Not worth the price tag by any means. Get it ...</td>\n",
       "      <td>2</td>\n",
       "    </tr>\n",
       "    <tr>\n",
       "      <th>660</th>\n",
       "      <td>\"I purchased this with the idea that I could c...</td>\n",
       "      <td>2</td>\n",
       "    </tr>\n",
       "    <tr>\n",
       "      <th>411</th>\n",
       "      <td>\"Came faster then I thought, perfect condition...</td>\n",
       "      <td>5</td>\n",
       "    </tr>\n",
       "  </tbody>\n",
       "</table>\n",
       "</div>"
      ],
      "text/plain": [
       "                                  review_body (string)  star_rating (int32)\n",
       "521  \"wifi does not stay on i have it mounted out t...                    3\n",
       "737  \"right amount of blue tint, for day and night ...                    4\n",
       "740  \"Not worth the price tag by any means. Get it ...                    2\n",
       "660  \"I purchased this with the idea that I could c...                    2\n",
       "411  \"Came faster then I thought, perfect condition...                    5"
      ]
     },
     "execution_count": 14,
     "metadata": {},
     "output_type": "execute_result"
    }
   ],
   "source": [
    "# Take a sample of 50% of the dataset for the purpose of demonstration\n",
    "# So here I have taken only 30% of the total samples that is available on the amazon reviews\n",
    "data = data.sample(frac=0.3, random_state=42)\n",
    "data.head()"
   ]
  },
  {
   "cell_type": "code",
   "execution_count": 15,
   "id": "df2afc96",
   "metadata": {},
   "outputs": [
    {
     "name": "stdout",
     "output_type": "stream",
     "text": [
      "Number of datapoints after sampling: (300, 2)\n"
     ]
    }
   ],
   "source": [
    "print(\"Number of datapoints after sampling:\", data.shape)"
   ]
  },
  {
   "cell_type": "code",
   "execution_count": 16,
   "id": "6ab53572",
   "metadata": {},
   "outputs": [
    {
     "data": {
      "text/html": [
       "<div>\n",
       "<style scoped>\n",
       "    .dataframe tbody tr th:only-of-type {\n",
       "        vertical-align: middle;\n",
       "    }\n",
       "\n",
       "    .dataframe tbody tr th {\n",
       "        vertical-align: top;\n",
       "    }\n",
       "\n",
       "    .dataframe thead th {\n",
       "        text-align: right;\n",
       "    }\n",
       "</style>\n",
       "<table border=\"1\" class=\"dataframe\">\n",
       "  <thead>\n",
       "    <tr style=\"text-align: right;\">\n",
       "      <th></th>\n",
       "      <th>review_body (string)</th>\n",
       "      <th>star_rating (int32)</th>\n",
       "      <th>sentiment</th>\n",
       "    </tr>\n",
       "  </thead>\n",
       "  <tbody>\n",
       "    <tr>\n",
       "      <th>521</th>\n",
       "      <td>\"wifi does not stay on i have it mounted out t...</td>\n",
       "      <td>3</td>\n",
       "      <td>positive</td>\n",
       "    </tr>\n",
       "    <tr>\n",
       "      <th>737</th>\n",
       "      <td>\"right amount of blue tint, for day and night ...</td>\n",
       "      <td>4</td>\n",
       "      <td>positive</td>\n",
       "    </tr>\n",
       "    <tr>\n",
       "      <th>740</th>\n",
       "      <td>\"Not worth the price tag by any means. Get it ...</td>\n",
       "      <td>2</td>\n",
       "      <td>negative</td>\n",
       "    </tr>\n",
       "    <tr>\n",
       "      <th>660</th>\n",
       "      <td>\"I purchased this with the idea that I could c...</td>\n",
       "      <td>2</td>\n",
       "      <td>negative</td>\n",
       "    </tr>\n",
       "    <tr>\n",
       "      <th>411</th>\n",
       "      <td>\"Came faster then I thought, perfect condition...</td>\n",
       "      <td>5</td>\n",
       "      <td>positive</td>\n",
       "    </tr>\n",
       "  </tbody>\n",
       "</table>\n",
       "</div>"
      ],
      "text/plain": [
       "                                  review_body (string)  star_rating (int32)  \\\n",
       "521  \"wifi does not stay on i have it mounted out t...                    3   \n",
       "737  \"right amount of blue tint, for day and night ...                    4   \n",
       "740  \"Not worth the price tag by any means. Get it ...                    2   \n",
       "660  \"I purchased this with the idea that I could c...                    2   \n",
       "411  \"Came faster then I thought, perfect condition...                    5   \n",
       "\n",
       "    sentiment  \n",
       "521  positive  \n",
       "737  positive  \n",
       "740  negative  \n",
       "660  negative  \n",
       "411  positive  "
      ]
     },
     "execution_count": 16,
     "metadata": {},
     "output_type": "execute_result"
    }
   ],
   "source": [
    "# Convert the star rating to sentiments\n",
    "data['sentiment'] = data['star_rating (int32)'].apply(lambda rating: \"positive\" if rating >= 3 else \"negative\")\n",
    "data.head()"
   ]
  },
  {
   "cell_type": "code",
   "execution_count": 17,
   "id": "054be11d",
   "metadata": {},
   "outputs": [
    {
     "data": {
      "text/html": [
       "<div>\n",
       "<style scoped>\n",
       "    .dataframe tbody tr th:only-of-type {\n",
       "        vertical-align: middle;\n",
       "    }\n",
       "\n",
       "    .dataframe tbody tr th {\n",
       "        vertical-align: top;\n",
       "    }\n",
       "\n",
       "    .dataframe thead th {\n",
       "        text-align: right;\n",
       "    }\n",
       "</style>\n",
       "<table border=\"1\" class=\"dataframe\">\n",
       "  <thead>\n",
       "    <tr style=\"text-align: right;\">\n",
       "      <th></th>\n",
       "      <th>review_body (string)</th>\n",
       "      <th>star_rating (int32)</th>\n",
       "      <th>sentiment</th>\n",
       "    </tr>\n",
       "  </thead>\n",
       "  <tbody>\n",
       "    <tr>\n",
       "      <th>521</th>\n",
       "      <td>\"wifi does not stay on i have it mounted out t...</td>\n",
       "      <td>3</td>\n",
       "      <td>1</td>\n",
       "    </tr>\n",
       "    <tr>\n",
       "      <th>737</th>\n",
       "      <td>\"right amount of blue tint, for day and night ...</td>\n",
       "      <td>4</td>\n",
       "      <td>1</td>\n",
       "    </tr>\n",
       "    <tr>\n",
       "      <th>740</th>\n",
       "      <td>\"Not worth the price tag by any means. Get it ...</td>\n",
       "      <td>2</td>\n",
       "      <td>0</td>\n",
       "    </tr>\n",
       "    <tr>\n",
       "      <th>660</th>\n",
       "      <td>\"I purchased this with the idea that I could c...</td>\n",
       "      <td>2</td>\n",
       "      <td>0</td>\n",
       "    </tr>\n",
       "    <tr>\n",
       "      <th>411</th>\n",
       "      <td>\"Came faster then I thought, perfect condition...</td>\n",
       "      <td>5</td>\n",
       "      <td>1</td>\n",
       "    </tr>\n",
       "  </tbody>\n",
       "</table>\n",
       "</div>"
      ],
      "text/plain": [
       "                                  review_body (string)  star_rating (int32)  \\\n",
       "521  \"wifi does not stay on i have it mounted out t...                    3   \n",
       "737  \"right amount of blue tint, for day and night ...                    4   \n",
       "740  \"Not worth the price tag by any means. Get it ...                    2   \n",
       "660  \"I purchased this with the idea that I could c...                    2   \n",
       "411  \"Came faster then I thought, perfect condition...                    5   \n",
       "\n",
       "     sentiment  \n",
       "521          1  \n",
       "737          1  \n",
       "740          0  \n",
       "660          0  \n",
       "411          1  "
      ]
     },
     "execution_count": 17,
     "metadata": {},
     "output_type": "execute_result"
    }
   ],
   "source": [
    "# One-hot encode the target label\n",
    "data['sentiment'] = data['sentiment'].map({'positive':1, 'negative':0})\n",
    "data.head()"
   ]
  },
  {
   "cell_type": "code",
   "execution_count": 18,
   "id": "b7dedf85",
   "metadata": {},
   "outputs": [
    {
     "data": {
      "text/html": [
       "<div>\n",
       "<style scoped>\n",
       "    .dataframe tbody tr th:only-of-type {\n",
       "        vertical-align: middle;\n",
       "    }\n",
       "\n",
       "    .dataframe tbody tr th {\n",
       "        vertical-align: top;\n",
       "    }\n",
       "\n",
       "    .dataframe thead th {\n",
       "        text-align: right;\n",
       "    }\n",
       "</style>\n",
       "<table border=\"1\" class=\"dataframe\">\n",
       "  <thead>\n",
       "    <tr style=\"text-align: right;\">\n",
       "      <th></th>\n",
       "      <th>review_body (string)</th>\n",
       "      <th>sentiment</th>\n",
       "    </tr>\n",
       "  </thead>\n",
       "  <tbody>\n",
       "    <tr>\n",
       "      <th>521</th>\n",
       "      <td>\"wifi does not stay on i have it mounted out t...</td>\n",
       "      <td>1</td>\n",
       "    </tr>\n",
       "    <tr>\n",
       "      <th>737</th>\n",
       "      <td>\"right amount of blue tint, for day and night ...</td>\n",
       "      <td>1</td>\n",
       "    </tr>\n",
       "    <tr>\n",
       "      <th>740</th>\n",
       "      <td>\"Not worth the price tag by any means. Get it ...</td>\n",
       "      <td>0</td>\n",
       "    </tr>\n",
       "    <tr>\n",
       "      <th>660</th>\n",
       "      <td>\"I purchased this with the idea that I could c...</td>\n",
       "      <td>0</td>\n",
       "    </tr>\n",
       "    <tr>\n",
       "      <th>411</th>\n",
       "      <td>\"Came faster then I thought, perfect condition...</td>\n",
       "      <td>1</td>\n",
       "    </tr>\n",
       "  </tbody>\n",
       "</table>\n",
       "</div>"
      ],
      "text/plain": [
       "                                  review_body (string)  sentiment\n",
       "521  \"wifi does not stay on i have it mounted out t...          1\n",
       "737  \"right amount of blue tint, for day and night ...          1\n",
       "740  \"Not worth the price tag by any means. Get it ...          0\n",
       "660  \"I purchased this with the idea that I could c...          0\n",
       "411  \"Came faster then I thought, perfect condition...          1"
      ]
     },
     "execution_count": 18,
     "metadata": {},
     "output_type": "execute_result"
    }
   ],
   "source": [
    "#Drop the rating column\n",
    "data.drop(columns=['star_rating (int32)'], inplace=True)\n",
    "data.head()"
   ]
  },
  {
   "cell_type": "code",
   "execution_count": 19,
   "id": "0ea04675",
   "metadata": {},
   "outputs": [
    {
     "data": {
      "text/html": [
       "<div>\n",
       "<style scoped>\n",
       "    .dataframe tbody tr th:only-of-type {\n",
       "        vertical-align: middle;\n",
       "    }\n",
       "\n",
       "    .dataframe tbody tr th {\n",
       "        vertical-align: top;\n",
       "    }\n",
       "\n",
       "    .dataframe thead th {\n",
       "        text-align: right;\n",
       "    }\n",
       "</style>\n",
       "<table border=\"1\" class=\"dataframe\">\n",
       "  <thead>\n",
       "    <tr style=\"text-align: right;\">\n",
       "      <th></th>\n",
       "      <th>review</th>\n",
       "      <th>sentiment</th>\n",
       "    </tr>\n",
       "  </thead>\n",
       "  <tbody>\n",
       "    <tr>\n",
       "      <th>521</th>\n",
       "      <td>\"wifi does not stay on i have it mounted out t...</td>\n",
       "      <td>1</td>\n",
       "    </tr>\n",
       "    <tr>\n",
       "      <th>737</th>\n",
       "      <td>\"right amount of blue tint, for day and night ...</td>\n",
       "      <td>1</td>\n",
       "    </tr>\n",
       "    <tr>\n",
       "      <th>740</th>\n",
       "      <td>\"not worth the price tag by any means. get it ...</td>\n",
       "      <td>0</td>\n",
       "    </tr>\n",
       "    <tr>\n",
       "      <th>660</th>\n",
       "      <td>\"i purchased this with the idea that i could c...</td>\n",
       "      <td>0</td>\n",
       "    </tr>\n",
       "    <tr>\n",
       "      <th>411</th>\n",
       "      <td>\"came faster then i thought, perfect condition...</td>\n",
       "      <td>1</td>\n",
       "    </tr>\n",
       "  </tbody>\n",
       "</table>\n",
       "</div>"
      ],
      "text/plain": [
       "                                                review  sentiment\n",
       "521  \"wifi does not stay on i have it mounted out t...          1\n",
       "737  \"right amount of blue tint, for day and night ...          1\n",
       "740  \"not worth the price tag by any means. get it ...          0\n",
       "660  \"i purchased this with the idea that i could c...          0\n",
       "411  \"came faster then i thought, perfect condition...          1"
      ]
     },
     "execution_count": 19,
     "metadata": {},
     "output_type": "execute_result"
    }
   ],
   "source": [
    "# Preprocess the reviews\n",
    "data.rename(columns={'review_body (string)': 'review'}, inplace=True)\n",
    "#data['review'] = data['review'].str.decode('utf-8')\n",
    "data['review'] = data[\"review\"].apply(str.lower)\n",
    "data['review']\n",
    "data.head()"
   ]
  },
  {
   "cell_type": "code",
   "execution_count": 20,
   "id": "d0804b73",
   "metadata": {},
   "outputs": [
    {
     "data": {
      "text/plain": [
       "1    228\n",
       "0     72\n",
       "Name: sentiment, dtype: int64"
      ]
     },
     "execution_count": 20,
     "metadata": {},
     "output_type": "execute_result"
    }
   ],
   "source": [
    "# We can see that the data is not balanced\n",
    "# because we have very high representation of positive class & low representation of negative class\n",
    "data['sentiment'].value_counts()"
   ]
  },
  {
   "cell_type": "code",
   "execution_count": 21,
   "id": "3b0bc5cd",
   "metadata": {},
   "outputs": [
    {
     "data": {
      "text/plain": [
       "0    72\n",
       "1    72\n",
       "Name: sentiment, dtype: int64"
      ]
     },
     "execution_count": 21,
     "metadata": {},
     "output_type": "execute_result"
    }
   ],
   "source": [
    "# For the purpose of demonistration I am taking the same amount of data points in both the classes\n",
    "positive = data[data['sentiment'] == 1].sample(n=72, random_state=42)\n",
    "negative = data[data['sentiment'] == 0]\n",
    "train_data = pd.concat([positive, negative]).sample(frac=1).reset_index(drop=True)\n",
    "train_data['sentiment'].value_counts()"
   ]
  },
  {
   "cell_type": "code",
   "execution_count": 22,
   "id": "902c31ae",
   "metadata": {},
   "outputs": [
    {
     "name": "stdout",
     "output_type": "stream",
     "text": [
      "Sample review:\n",
      "['\"as described awesome product\"', '\"stopped working after a month\"', '\"wow i love this thing. it came a day early on shipping. very nice packaging. it has a soft touch rubber coating which i love the feel of. i tested it with a few different devices and they all connected almost instantly. i put it in the center of my house while i was doing some cleaning and left the phone in my pocket just to test the range, it never lost signal all around my house. its a very loud little speaker as well, perfect for setting up outside when your having a barbecue or something. its comes with a nice little carrying pouch you can put it in for traveling, it also comes with an aux cable and a charging cable. overall one my favorite products i\\'ve gotten in a while.\"', '\"sounds ok, but i was having trouble pairing my phone to receive and make calls. when someone called i could hear them but they couldn\\'t hear me. the sound quality with the music wasn\\'t what i was looking for. i sent this unit back.\"', '\"i love it\"', '\"stopped working after a week- while it did work it would make my cd player say cd err on the screen about every 1-2 minutes and would cut out the audio playing\"']\n",
      "Corresponding labels:\n",
      "[1, 0, 1, 1, 1, 0]\n"
     ]
    }
   ],
   "source": [
    "# Sample reviews and it's corresponsding labels\n",
    "reviews = train_data['review'].tolist() \n",
    "labels = train_data['sentiment'].tolist()\n",
    "\n",
    "print(\"Sample review:\")\n",
    "print(reviews[10:16])\n",
    "print(\"Corresponding labels:\")\n",
    "print(labels[10:16])"
   ]
  },
  {
   "cell_type": "code",
   "execution_count": 23,
   "id": "a22f49b9",
   "metadata": {},
   "outputs": [],
   "source": [
    "# Split the data into train, test and validation split\n",
    "from sklearn.model_selection import train_test_split\n",
    "X_train, X_test, y_train, y_test = train_test_split(reviews, labels, test_size=.2, random_state=42)"
   ]
  },
  {
   "cell_type": "code",
   "execution_count": 24,
   "id": "2488095f",
   "metadata": {},
   "outputs": [
    {
     "name": "stdout",
     "output_type": "stream",
     "text": [
      "Number of train data points: 115\n",
      "Number of train data labels: 115\n",
      "Number of test data points: 29\n",
      "Number of test labels: 29\n"
     ]
    }
   ],
   "source": [
    "# Number of train and test data\n",
    "print(\"Number of train data points:\", len(X_train))\n",
    "print(\"Number of train data labels:\", len(y_train))\n",
    "print(\"Number of test data points:\", len(X_test))\n",
    "print(\"Number of test labels:\", len(y_test))"
   ]
  },
  {
   "cell_type": "code",
   "execution_count": 25,
   "id": "97e2f803",
   "metadata": {},
   "outputs": [],
   "source": [
    "# Load the tokenizer\n",
    "# Now I am going to tokenize the text by using DistilBertTokenizerFast which is lighter & faster version of BERT Tokenizer \n",
    "#& it is already fine-tune on \"Standord Sentiment Train bank Dataset\" which is for sentiments. \n",
    "\n",
    "from transformers import DistilBertTokenizerFast\n",
    "MODEL_NAME = 'distilbert-base-uncased-finetuned-sst-2-english'\n",
    "tokenizer = DistilBertTokenizerFast.from_pretrained(MODEL_NAME)"
   ]
  },
  {
   "cell_type": "code",
   "execution_count": 26,
   "id": "7329d84a",
   "metadata": {},
   "outputs": [
    {
     "name": "stdout",
     "output_type": "stream",
     "text": [
      "Sentence: \"great sound great battery beach, work, park, anywhere battery lasts\"\n"
     ]
    },
    {
     "data": {
      "text/plain": [
       "{'input_ids': <tf.Tensor: shape=(1, 17), dtype=int32, numpy=\n",
       "array([[  101,  1000,  2307,  2614,  2307,  6046,  3509,  1010,  2147,\n",
       "         1010,  2380,  1010,  5973,  6046, 16180,  1000,   102]])>, 'attention_mask': <tf.Tensor: shape=(1, 17), dtype=int32, numpy=array([[1, 1, 1, 1, 1, 1, 1, 1, 1, 1, 1, 1, 1, 1, 1, 1, 1]])>}"
      ]
     },
     "execution_count": 26,
     "metadata": {},
     "output_type": "execute_result"
    }
   ],
   "source": [
    "# Sample tokenization\n",
    "print(\"Sentence:\" , X_train[0])\n",
    "tokenizer(X_train[0], truncation=True, padding=True, max_length=256, return_tensors='tf')"
   ]
  },
  {
   "cell_type": "code",
   "execution_count": 27,
   "id": "8d2567aa",
   "metadata": {},
   "outputs": [],
   "source": [
    "# Perform tokenization\n",
    "\n",
    "MAX_LENGTH=256\n",
    "train_encodings = tokenizer(X_train,\n",
    "                           truncation=True,\n",
    "                           padding=True,\n",
    "                           return_tensors='tf',\n",
    "                           max_length=MAX_LENGTH)\n",
    "test_encodings = tokenizer(X_test,\n",
    "                           truncation=True,\n",
    "                           padding=True,\n",
    "                           return_tensors='tf',\n",
    "                           max_length=MAX_LENGTH)"
   ]
  },
  {
   "cell_type": "code",
   "execution_count": 28,
   "id": "7ac7330c",
   "metadata": {},
   "outputs": [],
   "source": [
    "# Convert the tokenizer to TF object\n",
    "train_dataset = tf.data.Dataset.from_tensor_slices((dict(train_encodings),\n",
    "                                                   y_train))\n",
    "test_dataset = tf.data.Dataset.from_tensor_slices((dict(test_encodings),\n",
    "                                                   y_test))"
   ]
  },
  {
   "cell_type": "markdown",
   "id": "5c2461f4",
   "metadata": {},
   "source": [
    "# Stage# 4: Build, train and evaluate the model"
   ]
  },
  {
   "cell_type": "code",
   "execution_count": 35,
   "id": "e3ee9fc0",
   "metadata": {},
   "outputs": [
    {
     "name": "stderr",
     "output_type": "stream",
     "text": [
      "All PyTorch model weights were used when initializing TFDistilBertForSequenceClassification.\n",
      "\n",
      "All the weights of TFDistilBertForSequenceClassification were initialized from the PyTorch model.\n",
      "If your task is similar to the task the model of the checkpoint was trained on, you can already use TFDistilBertForSequenceClassification for predictions without further training.\n"
     ]
    }
   ],
   "source": [
    "from transformers import TFDistilBertForSequenceClassification\n",
    "\n",
    "model = TFDistilBertForSequenceClassification.from_pretrained(\n",
    "    pretrained_model_name_or_path=MODEL_NAME,\n",
    "    num_labels=2\n",
    ")"
   ]
  },
  {
   "cell_type": "code",
   "execution_count": 39,
   "id": "7557d8c6",
   "metadata": {},
   "outputs": [],
   "source": [
    "# Speicify the model optimizer\n",
    "# Then you define the optimizer it also comes with a lot of parameters like learning rates and other things.\n",
    "# We will see those hyperparameters in the next session.\n",
    "\n",
    "optimizer = tf.keras.optimizers.Adam(\n",
    "    learning_rate=5e-5\n",
    ")"
   ]
  },
  {
   "cell_type": "code",
   "execution_count": 43,
   "id": "14561a52",
   "metadata": {},
   "outputs": [],
   "source": [
    "# Specify the loss function\n",
    "loss_func = tf.keras.losses.SparseCategoricalCrossentropy(from_logits=True)"
   ]
  },
  {
   "cell_type": "code",
   "execution_count": 44,
   "id": "7f42d0b3",
   "metadata": {},
   "outputs": [],
   "source": [
    "# Compile the model with three important parameters\n",
    "model.compile(optimizer=optimizer, loss=loss_func, metrics=['accuracy'])"
   ]
  },
  {
   "cell_type": "code",
   "execution_count": 45,
   "id": "07a14ad2",
   "metadata": {},
   "outputs": [
    {
     "name": "stdout",
     "output_type": "stream",
     "text": [
      "Model: \"tf_distil_bert_for_sequence_classification_1\"\n",
      "_________________________________________________________________\n",
      " Layer (type)                Output Shape              Param #   \n",
      "=================================================================\n",
      " distilbert (TFDistilBertMa  multiple                  66362880  \n",
      " inLayer)                                                        \n",
      "                                                                 \n",
      " pre_classifier (Dense)      multiple                  590592    \n",
      "                                                                 \n",
      " classifier (Dense)          multiple                  1538      \n",
      "                                                                 \n",
      " dropout_39 (Dropout)        multiple                  0         \n",
      "                                                                 \n",
      "=================================================================\n",
      "Total params: 66955010 (255.41 MB)\n",
      "Trainable params: 66955010 (255.41 MB)\n",
      "Non-trainable params: 0 (0.00 Byte)\n",
      "_________________________________________________________________\n"
     ]
    }
   ],
   "source": [
    "# Inspect/check the model\n",
    "model.summary()"
   ]
  },
  {
   "cell_type": "code",
   "execution_count": 49,
   "id": "11cca55e",
   "metadata": {},
   "outputs": [
    {
     "name": "stdout",
     "output_type": "stream",
     "text": [
      "Epoch 1/2\n",
      "8/8 [==============================] - 45s 4s/step - loss: 0.6554 - accuracy: 0.8087 - val_loss: 0.0754 - val_accuracy: 0.9655\n",
      "Epoch 2/2\n",
      "8/8 [==============================] - 37s 5s/step - loss: 0.2059 - accuracy: 0.9304 - val_loss: 0.0457 - val_accuracy: 1.0000\n"
     ]
    },
    {
     "data": {
      "text/plain": [
       "<keras.src.callbacks.History at 0x14de66c5d00>"
      ]
     },
     "execution_count": 49,
     "metadata": {},
     "output_type": "execute_result"
    }
   ],
   "source": [
    "# Define hyperparameters\n",
    "\n",
    "BATCH_SIZE = 16\n",
    "NUM_EPOCHS = 2\n",
    "\n",
    "model.fit(train_dataset.shuffle(len(X_train)).batch(BATCH_SIZE),\n",
    "                                epochs=NUM_EPOCHS,\n",
    "                                batch_size=BATCH_SIZE,\n",
    "                                validation_data=test_dataset.shuffle(len(X_test)).batch(BATCH_SIZE)\n",
    "         )"
   ]
  },
  {
   "cell_type": "code",
   "execution_count": 50,
   "id": "1ed276bd",
   "metadata": {},
   "outputs": [],
   "source": [
    "# Save the model\n",
    "# I am saving model so it can be loaded later for deployment\n",
    "\n",
    "model.save_pretrained(\"E:\\Data Science\\SDAIA\\Sentiment Model\")\n",
    "\n",
    "#model.save_pretrained(\"/tap/sentiment_model\")"
   ]
  },
  {
   "cell_type": "code",
   "execution_count": 51,
   "id": "3e89f66d",
   "metadata": {},
   "outputs": [],
   "source": [
    "# Preprocess the unseen data\n",
    "\n",
    "unseen_data = data.sample(frac=0.05, random_state=42)\n",
    "unseen_reviews = unseen_data['review'].tolist()\n",
    "\n",
    "unseen_encodings = tokenizer(unseen_reviews,\n",
    "                             padding=True,\n",
    "                             truncation=True,\n",
    "                             max_length=MAX_LENGTH,\n",
    "                             return_tensors='tf')\n",
    "\n",
    "y_unseen = unseen_data['sentiment'].tolist()\n",
    "\n",
    "unseen_encodings = tf.data.Dataset.from_tensor_slices((dict(unseen_encodings),\n",
    "                                                       y_unseen\n",
    "                                                      ))"
   ]
  },
  {
   "cell_type": "code",
   "execution_count": 52,
   "id": "e8fc8bad",
   "metadata": {},
   "outputs": [
    {
     "name": "stdout",
     "output_type": "stream",
     "text": [
      "1/1 [==============================] - 2s 2s/step - loss: 0.3563 - accuracy: 0.8000\n"
     ]
    },
    {
     "data": {
      "text/plain": [
       "{'loss': 0.35626623034477234, 'accuracy': 0.800000011920929}"
      ]
     },
     "execution_count": 52,
     "metadata": {},
     "output_type": "execute_result"
    }
   ],
   "source": [
    "# Evaluate the model\n",
    "# It is giving 93% which is actually good that means our model is generalizing well so this is a good sign\n",
    "# So, I will save this model for deployment\n",
    "# So, this is with respect to model building & evaluation\n",
    "\n",
    "model.evaluate(unseen_encodings.shuffle(len(unseen_reviews)).batch(BATCH_SIZE),\n",
    "              return_dict=True,\n",
    "              batch_size=BATCH_SIZE)"
   ]
  },
  {
   "cell_type": "code",
   "execution_count": null,
   "id": "2be109fa",
   "metadata": {},
   "outputs": [],
   "source": [
    "#You can look at all these open source libraries\n",
    "\n",
    "#- Stanford NLP:  https://nlp.stanford.edu/software/\n",
    "#- NLTK:          https://www.nltk.org/\n",
    "#- Hugging face:  https://huggingface.co/\n",
    "#- Spacy:         https://spacy.io/\n",
    "#- Scikit-learn:  https://scikit-learn.org/\n",
    "\n",
    "\n"
   ]
  }
 ],
 "metadata": {
  "kernelspec": {
   "display_name": "Python 3",
   "language": "python",
   "name": "python3"
  },
  "language_info": {
   "codemirror_mode": {
    "name": "ipython",
    "version": 3
   },
   "file_extension": ".py",
   "mimetype": "text/x-python",
   "name": "python",
   "nbconvert_exporter": "python",
   "pygments_lexer": "ipython3",
   "version": "3.8.8"
  }
 },
 "nbformat": 4,
 "nbformat_minor": 5
}
